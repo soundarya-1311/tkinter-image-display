{
 "cells": [
  {
   "cell_type": "code",
   "execution_count": null,
   "id": "ec4189a6",
   "metadata": {},
   "outputs": [],
   "source": [
    "from tkinter import *\n",
    "from tkinter import filedialog\n",
    "import tkinter as tk\n",
    "from PIL import Image,ImageTk\n",
    "import os\n",
    "\n",
    "def show_image():\n",
    "    filename=filedialog.askopenfilename(initialdir=os.getcwd(),title=\"Select image file\",filetype=((\"Image Files\",\"*.jpg\"),(\"All file\",\"how are you.txt\")))    \n",
    "    img = Image.open(filename)\n",
    "    img = ImageTk.PhotoImage(img)\n",
    "    lbl.configure(image=img)\n",
    "    lbl.image(img)\n",
    "    \n",
    "win=Tk()\n",
    "\n",
    "frame = Frame(win)\n",
    "frame.pack(side=BOTTOM,padx=100,pady=15)\n",
    "\n",
    "lbl = Label(win)\n",
    "lbl.pack()\n",
    "\n",
    "\n",
    "btn=Button(frame,text=\"BROWSE\",command=show_image)\n",
    "btn.pack(side=tk.LEFT)\n",
    "\n",
    "win.title(\"IMG VIEWER\")\n",
    "win.geometry(\"500x600\")\n",
    "win.mainloop()"
   ]
  },
  {
   "cell_type": "code",
   "execution_count": null,
   "id": "80991996",
   "metadata": {},
   "outputs": [],
   "source": []
  }
 ],
 "metadata": {
  "kernelspec": {
   "display_name": "Python 3 (ipykernel)",
   "language": "python",
   "name": "python3"
  },
  "language_info": {
   "codemirror_mode": {
    "name": "ipython",
    "version": 3
   },
   "file_extension": ".py",
   "mimetype": "text/x-python",
   "name": "python",
   "nbconvert_exporter": "python",
   "pygments_lexer": "ipython3",
   "version": "3.9.13"
  }
 },
 "nbformat": 4,
 "nbformat_minor": 5
}
